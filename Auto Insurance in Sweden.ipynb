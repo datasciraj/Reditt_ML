{
 "cells": [
  {
   "cell_type": "code",
   "execution_count": 1,
   "metadata": {},
   "outputs": [],
   "source": [
    "import pandas as pd\n",
    "import matplotlib.pyplot as plt"
   ]
  },
  {
   "cell_type": "code",
   "execution_count": 2,
   "metadata": {},
   "outputs": [
    {
     "name": "stdout",
     "output_type": "stream",
     "text": [
      "*** No CODEPAGE record, no encoding_override: will use 'ascii'\n"
     ]
    }
   ],
   "source": [
    "dataset=pd.read_excel('slr06.xls')"
   ]
  },
  {
   "cell_type": "code",
   "execution_count": 6,
   "metadata": {},
   "outputs": [
    {
     "data": {
      "text/plain": [
       "0     108\n",
       "1      19\n",
       "2      13\n",
       "3     124\n",
       "4      40\n",
       "5      57\n",
       "6      23\n",
       "7      14\n",
       "8      45\n",
       "9      10\n",
       "10      5\n",
       "11     48\n",
       "12     11\n",
       "13     23\n",
       "14      7\n",
       "15      2\n",
       "16     24\n",
       "17      6\n",
       "18      3\n",
       "19     23\n",
       "20      6\n",
       "21      9\n",
       "22      9\n",
       "23      3\n",
       "24     29\n",
       "25      7\n",
       "26      4\n",
       "27     20\n",
       "28      7\n",
       "29      4\n",
       "     ... \n",
       "33      5\n",
       "34     22\n",
       "35     11\n",
       "36     61\n",
       "37     12\n",
       "38      4\n",
       "39     16\n",
       "40     13\n",
       "41     60\n",
       "42     41\n",
       "43     37\n",
       "44     55\n",
       "45     41\n",
       "46     11\n",
       "47     27\n",
       "48      8\n",
       "49      3\n",
       "50     17\n",
       "51     13\n",
       "52     13\n",
       "53     15\n",
       "54      8\n",
       "55     29\n",
       "56     30\n",
       "57     24\n",
       "58      9\n",
       "59     31\n",
       "60     14\n",
       "61     53\n",
       "62     26\n",
       "Name: X, Length: 63, dtype: int64"
      ]
     },
     "execution_count": 6,
     "metadata": {},
     "output_type": "execute_result"
    }
   ],
   "source": [
    "dataset.X"
   ]
  },
  {
   "cell_type": "code",
   "execution_count": null,
   "metadata": {},
   "outputs": [],
   "source": []
  }
 ],
 "metadata": {
  "kernelspec": {
   "display_name": "Python 3",
   "language": "python",
   "name": "python3"
  },
  "language_info": {
   "codemirror_mode": {
    "name": "ipython",
    "version": 3
   },
   "file_extension": ".py",
   "mimetype": "text/x-python",
   "name": "python",
   "nbconvert_exporter": "python",
   "pygments_lexer": "ipython3",
   "version": "3.7.1"
  }
 },
 "nbformat": 4,
 "nbformat_minor": 2
}
